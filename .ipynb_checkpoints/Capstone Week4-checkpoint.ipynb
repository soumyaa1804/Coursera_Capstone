{
 "cells": [
  {
   "cell_type": "markdown",
   "metadata": {},
   "source": [
    "# Explore Restaurants in Delhi"
   ]
  },
  {
   "cell_type": "markdown",
   "metadata": {},
   "source": [
    "<br>"
   ]
  },
  {
   "cell_type": "markdown",
   "metadata": {},
   "source": [
    "##  Introduction/Business Problem\n",
    "\n",
    "Delhi, being the capital of India is visited daily by many visitors to see various historical monuments. And with travelling comes along trying out different eateries and Delhi is famous for its wide variety of food. From spicy chaat of Old Delhi to different continental food, Delhi has it all covered. According to [Zomato](https://en.wikipedia.org/wiki/Zomato)'s year-end consumer trends report, Delhi has the highest number of restaurants among major cities, with nearly 16,000 eateries. <sup>[[1]](https://inshorts.com/en/news/delhi-has-the-most-number-of-restaurants-zomato-1483168017709#:~:text=According%20to%20Zomato's%20year%2Dend,cities%2C%20with%20nearly%2016%2C000%20eateries.)  </sup>\n",
    "\n",
    "With this high no. of restaurants and cafes it becomes super hard for visitors to pick different categories of restaurants such that they can experience variety of Delhi flavour in limited duration of time.\n",
    "\n",
    "### Problem Statement\n",
    "\n",
    "To explore restaurants in Delhi based on type, price range and ratings and then cluster them accordingly so that tourists and travellers can pick restaurants among cluster to get similar experience and also from different clusters to get variety of experience in limited time.\n",
    "\n",
    "### Target Audience:\n",
    "\n",
    "Visitors, travellors, foodies, food vlogers/blogers (Anyone with a lick to explore food in Delhi)\n",
    "\n",
    "### Data:\n",
    "\n",
    "Using **Foursquare API** to get latitude, longitude and type of restaurants in Delhi using **explore** endpoint and then mapping those latitude and longitude to get ratings and price range of these restaurants uisng **Zomato API**\n",
    "\n",
    "Example data from Foursquare:\n",
    "\n",
    "We can get list of restaurants, their category and their latitude and and longitude and then map them with Zomato data to get their respective ratings and price range.\n",
    "\n",
    "```json\n",
    "    \"reasons\": {\n",
    "        \"count\": 0,\n",
    "        \"items\": [\n",
    "            {\n",
    "                \"summary\": \"This spot is popular\",\n",
    "                \"type\": \"general\",\n",
    "                \"reasonName\": \"globalInteractionReason\"\n",
    "            }\n",
    "        ]\n",
    "    },\n",
    "    \"venue\": {\n",
    "        \"id\": \"518ddbdf498eab246c509547\",\n",
    "        \"name\": \"bloomrooms @ New Delhi Railway Station\",\n",
    "        \"location\": {\n",
    "            \"address\": \"8591, Arakashan Road\",\n",
    "            \"crossStreet\": \"opp. new delhi railway station\",\n",
    "            \"lat\": 28.64553655967833,\n",
    "            \"lng\": 77.21770059555993,\n",
    "            \"labeledLatLngs\": [\n",
    "                {\n",
    "                    \"label\": \"display\",\n",
    "                    \"lat\": 28.64553655967833,\n",
    "                    \"lng\": 77.21770059555993\n",
    "                }\n",
    "            ],\n",
    "            \"distance\": 126,\n",
    "            \"postalCode\": \"110055\",\n",
    "            \"cc\": \"IN\",\n",
    "            \"city\": \"New Delhi\",\n",
    "            \"state\": \"Delhi\",\n",
    "            \"country\": \"India\",\n",
    "            \"formattedAddress\": [\n",
    "                \"8591, Arakashan Road (opp. new delhi railway station)\",\n",
    "                \"New Delhi 110055\",\n",
    "                \"Delhi\",\n",
    "                \"India\"\n",
    "            ]\n",
    "        },\n",
    "        \"categories\": [\n",
    "            {\n",
    "                \"id\": \"4bf58dd8d48988d1fa931735\",\n",
    "                \"name\": \"Hotel\",\n",
    "                \"pluralName\": \"Hotels\",\n",
    "                \"shortName\": \"Hotel\",\n",
    "                \"icon\": {\n",
    "                    \"prefix\": \"https://ss3.4sqi.net/img/categories_v2/travel/hotel_\",\n",
    "                    \"suffix\": \".png\"\n",
    "                },\n",
    "                \"primary\": true\n",
    "            }\n",
    "        ],\n",
    "        \"photos\": {\n",
    "            \"count\": 0,\n",
    "            \"groups\": []\n",
    "        }\n",
    "    },\n",
    "    \"referralId\": \"e-0-518ddbdf498eab246c509547-0\"\n",
    "},\n",
    "                    \n",
    " ```"
   ]
  },
  {
   "cell_type": "code",
   "execution_count": null,
   "metadata": {},
   "outputs": [],
   "source": []
  }
 ],
 "metadata": {
  "kernelspec": {
   "display_name": "Python 3",
   "language": "python",
   "name": "python3"
  },
  "language_info": {
   "codemirror_mode": {
    "name": "ipython",
    "version": 3
   },
   "file_extension": ".py",
   "mimetype": "text/x-python",
   "name": "python",
   "nbconvert_exporter": "python",
   "pygments_lexer": "ipython3",
   "version": "3.8.5"
  }
 },
 "nbformat": 4,
 "nbformat_minor": 4
}
